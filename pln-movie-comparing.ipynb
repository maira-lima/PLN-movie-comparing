{
 "cells": [
  {
   "cell_type": "code",
   "execution_count": 2,
   "metadata": {},
   "outputs": [],
   "source": [
    "# codigo do filme a ser classificado\n",
    "movie = 'tt6644200'\n",
    "name = 'A Quiet Place'"
   ]
  },
  {
   "cell_type": "code",
   "execution_count": 4,
   "metadata": {},
   "outputs": [],
   "source": [
    "import re"
   ]
  },
  {
   "cell_type": "code",
   "execution_count": 5,
   "metadata": {},
   "outputs": [],
   "source": [
    "# tag HTML que contem cada uma das reviews\n",
    "padrao = re.compile(r'<div class=\"text show-more__control\">(.+?)</div>', re.DOTALL)\n",
    "\n",
    "# regex que acha cada palavra no documento\n",
    "regex = r\"[-'a-zA-ZÀ-ÖØ-öø-ÿ]+\""
   ]
  },
  {
   "cell_type": "code",
   "execution_count": 7,
   "metadata": {},
   "outputs": [],
   "source": [
    "# leitura das stopwords\n",
    "Stopwords = set([]) \n",
    "sw = open(\"stopwords.txt\",'r')\n",
    "for s in sw.readlines():\n",
    "    Stopwords.add(s.strip().lower())\n",
    "sw.close()"
   ]
  },
  {
   "cell_type": "code",
   "execution_count": 8,
   "metadata": {},
   "outputs": [],
   "source": [
    "import csv"
   ]
  },
  {
   "cell_type": "code",
   "execution_count": 9,
   "metadata": {},
   "outputs": [],
   "source": [
    "# leitura do arquivo csv de classificacoes\n",
    "f = open('ratings-short.csv', 'r')\n",
    "reader = csv.reader(f)\n",
    "lines = list(reader)\n",
    "f.close()\n",
    "lines = lines[1:]"
   ]
  },
  {
   "cell_type": "code",
   "execution_count": 10,
   "metadata": {},
   "outputs": [],
   "source": [
    "Document = dict([])\n",
    "Title = dict([])\n",
    "Rating = dict([])\n",
    "Vocabulary = set([])"
   ]
  },
  {
   "cell_type": "code",
   "execution_count": 12,
   "metadata": {},
   "outputs": [],
   "source": [
    "import requests"
   ]
  },
  {
   "cell_type": "code",
   "execution_count": 11,
   "metadata": {},
   "outputs": [],
   "source": [
    "# funcao que \n",
    "def leFilme(movieCode, movieTitle, movieRating):\n",
    "    url = 'https://www.imdb.com/title/' + movieCode + '/reviews'\n",
    "    print(url)\n",
    "    res = requests.get(url)\n",
    "    if res.status_code == requests.codes.ok:\n",
    "        conteudo = res.text\n",
    "        reviews = padrao.findall(conteudo)\n",
    "        if len(reviews) > 0:\n",
    "            txt = '\\n'.join(reviews).replace('&#39;', '\\'').replace('<br/>', ' ').replace('&quot;', '\\\"').replace('&amp;', '&')\n",
    "            txt = re.sub(r'[^\\x00-\\x7f]',r'', txt)\n",
    "    words = re.findall(regex, txt)\n",
    "    if len(words) > 0:\n",
    "        Document[movieCode] = list()\n",
    "        for w in words:\n",
    "            if w not in Stopwords and len(w)>=3:\n",
    "                Document[movieCode].append(w.lower())\n",
    "        if len(Document[movieCode]) > 0:\n",
    "            Vocabulary.update(Document[movieCode])\n",
    "            Title[movieCode] = movieTitle\n",
    "            Rating[movieCode] = movieRating\n",
    "        else:\n",
    "            del Document[movieCode]"
   ]
  },
  {
   "cell_type": "code",
   "execution_count": 13,
   "metadata": {},
   "outputs": [
    {
     "name": "stdout",
     "output_type": "stream",
     "text": [
      "https://www.imdb.com/title/tt1019452/reviews\n",
      "https://www.imdb.com/title/tt0103873/reviews\n",
      "https://www.imdb.com/title/tt0106179/reviews\n",
      "https://www.imdb.com/title/tt1082599/reviews\n",
      "https://www.imdb.com/title/tt1119644/reviews\n",
      "https://www.imdb.com/title/tt0113409/reviews\n",
      "https://www.imdb.com/title/tt1179933/reviews\n",
      "https://www.imdb.com/title/tt1182345/reviews\n",
      "https://www.imdb.com/title/tt1183374/reviews\n",
      "https://www.imdb.com/title/tt6644200/reviews\n"
     ]
    }
   ],
   "source": [
    "# leitura das reviews\n",
    "for line in lines:\n",
    "    leFilme(line[0], line[3], line[1])\n",
    "leFilme(movie, name, '0')"
   ]
  },
  {
   "cell_type": "code",
   "execution_count": 14,
   "metadata": {},
   "outputs": [
    {
     "name": "stdout",
     "output_type": "stream",
     "text": [
      "10 documentos\n",
      "8041 palavras\n"
     ]
    }
   ],
   "source": [
    "# estatisticas\n",
    "D = len(Document)\n",
    "V = len(Vocabulary)\n",
    "print(\"{} documentos\".format(D))\n",
    "print(\"{} palavras\".format(V))"
   ]
  },
  {
   "cell_type": "code",
   "execution_count": 16,
   "metadata": {},
   "outputs": [],
   "source": [
    "import numpy"
   ]
  },
  {
   "cell_type": "code",
   "execution_count": 17,
   "metadata": {},
   "outputs": [
    {
     "name": "stdout",
     "output_type": "stream",
     "text": [
      "0% 10% 20% 30% 40% 50% 60% 70% 80% 90% "
     ]
    }
   ],
   "source": [
    "# calculando a matriz de frequencias das palavras nas reviews\n",
    "M = numpy.zeros((V, D))\n",
    "documents  = list(Document.keys())\n",
    "vocabulary = list(Vocabulary)\n",
    "for j in range(0, D):\n",
    "    d = documents[j]       \n",
    "    print(\"{0:.0f}%\".format(((j/D)*100)), end=' ')\n",
    "    for i in range(0, V):\n",
    "        w = vocabulary[i]       \n",
    "        M[i,j] = float(Document[d].count(w))"
   ]
  },
  {
   "cell_type": "code",
   "execution_count": 18,
   "metadata": {},
   "outputs": [],
   "source": [
    "# calculando a matriz TFIDF\n",
    "idf = numpy.count_nonzero(M, axis=1)\n",
    "idf = [D / x for x in idf]\n",
    "idf = numpy.log(idf)\n",
    "Sd = numpy.sum(M, axis=0)\n",
    "TFIDF = numpy.copy(M)\n",
    "for j in range(0, D): \n",
    "    TFIDF[:,j] = [x / Sd[j] for x in TFIDF[:,j]]\n",
    "    TFIDF[:,j] = numpy.multiply(TFIDF[:,j], idf)"
   ]
  },
  {
   "cell_type": "code",
   "execution_count": 20,
   "metadata": {},
   "outputs": [],
   "source": [
    "from scipy.spatial import distance"
   ]
  },
  {
   "cell_type": "code",
   "execution_count": 21,
   "metadata": {},
   "outputs": [],
   "source": [
    "# distancia entre documentos\n",
    "dist_f = {'euclidean': distance.euclidean, \n",
    "          'chebyshev': distance.chebyshev, \n",
    "          'cosine': distance.cosine}\n",
    "dist = {'euclidean': numpy.ones(D-1) * numpy.nan, \n",
    "          'chebyshev': numpy.ones(D-1) * numpy.nan, \n",
    "          'cosine': numpy.ones(D-1) * numpy.nan,\n",
    "          'tf-idf': numpy.ones(D-1) * numpy.nan}"
   ]
  },
  {
   "cell_type": "code",
   "execution_count": 22,
   "metadata": {},
   "outputs": [],
   "source": [
    "for i in range(0, D-1): \n",
    "    for df in dist_f.keys():\n",
    "        dist[df][i] = dist_f[df](M[:,i], M[:,-1])\n",
    "    # similaridade de cosseno entre documentos por TF-IDF\n",
    "    dist['tf-idf'][i] = distance.cosine(TFIDF[:,i], TFIDF[:,-1])"
   ]
  },
  {
   "cell_type": "code",
   "execution_count": 23,
   "metadata": {},
   "outputs": [],
   "source": [
    "# similaridade entre documentos (1 - distancia normalizada)\n",
    "similarity = dict()\n",
    "for df in dist.keys():\n",
    "    similarity[df] = 1 - (dist[df] - numpy.nanmin(dist[df])) / (numpy.nanmax(dist[df]) - numpy.nanmin(dist[df]))"
   ]
  },
  {
   "cell_type": "code",
   "execution_count": 24,
   "metadata": {},
   "outputs": [
    {
     "name": "stdout",
     "output_type": "stream",
     "text": [
      "\n",
      "Titulos mais similares por distancia euclidean e suas notas:\n",
      " 4 - Pet (1.00)\n",
      " 8 - 10 Cloverfield Lane (0.90)\n",
      " 6 - Stag Night (0.85)\n",
      " 5 - Braindead (0.84)\n",
      " 1 - A Serious Man (0.57)\n",
      "\n",
      "Titulos mais similares por distancia chebyshev e suas notas:\n",
      " 5 - Braindead (1.00)\n",
      " 4 - Pet (0.98)\n",
      " 6 - Stag Night (0.84)\n",
      " 1 - A Serious Man (0.76)\n",
      " 8 - 10 Cloverfield Lane (0.73)\n",
      "\n",
      "Titulos mais similares por distancia cosine e suas notas:\n",
      " 8 - 10 Cloverfield Lane (1.00)\n",
      " 4 - Pet (0.93)\n",
      " 1 - A Serious Man (0.86)\n",
      " 6 - Stag Night (0.86)\n",
      " 4 - In the Mouth of Madness (0.69)\n",
      "\n",
      "Titulos mais similares por distancia tf-idf e suas notas:\n",
      " 8 - 10 Cloverfield Lane (1.00)\n",
      " 7 - Moon (0.16)\n",
      " 1 - A Serious Man (0.15)\n",
      " 9 - Fringe (0.11)\n",
      " 4 - In the Mouth of Madness (0.10)\n"
     ]
    }
   ],
   "source": [
    "# exibicao dos resultados\n",
    "for df in dist.keys():\n",
    "    idx = numpy.argsort(similarity[df])\n",
    "    txt = '\\nTitulos mais similares por distancia ' + df + ' e suas notas:'\n",
    "    for i in range(-1, -6, -1):\n",
    "        txt += '\\n{1} - {0} ({2:.2f})'.format(Title[documents[idx[i]]], Rating[documents[idx[i]]].rjust(2), similarity[df][idx[i]])\n",
    "    \n",
    "    print(txt)"
   ]
  },
  {
   "cell_type": "code",
   "execution_count": null,
   "metadata": {},
   "outputs": [],
   "source": []
  }
 ],
 "metadata": {
  "kernelspec": {
   "display_name": "Python 3",
   "language": "python",
   "name": "python3"
  },
  "language_info": {
   "codemirror_mode": {
    "name": "ipython",
    "version": 3
   },
   "file_extension": ".py",
   "mimetype": "text/x-python",
   "name": "python",
   "nbconvert_exporter": "python",
   "pygments_lexer": "ipython3",
   "version": "3.6.3"
  }
 },
 "nbformat": 4,
 "nbformat_minor": 2
}
